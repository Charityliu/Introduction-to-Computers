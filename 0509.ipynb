{
  "nbformat": 4,
  "nbformat_minor": 0,
  "metadata": {
    "colab": {
      "name": "0509.ipynb",
      "provenance": [],
      "authorship_tag": "ABX9TyOZez1msuKN9fODseFxRdWE",
      "include_colab_link": true
    },
    "kernelspec": {
      "name": "python3",
      "display_name": "Python 3"
    },
    "language_info": {
      "name": "python"
    }
  },
  "cells": [
    {
      "cell_type": "markdown",
      "metadata": {
        "id": "view-in-github",
        "colab_type": "text"
      },
      "source": [
        "<a href=\"https://colab.research.google.com/github/Charityliu/Introduction-to-Computers/blob/main/0509.ipynb\" target=\"_parent\"><img src=\"https://colab.research.google.com/assets/colab-badge.svg\" alt=\"Open In Colab\"/></a>"
      ]
    },
    {
      "cell_type": "code",
      "execution_count": 1,
      "metadata": {
        "colab": {
          "base_uri": "https://localhost:8080/"
        },
        "id": "65MTDHPw7t4f",
        "outputId": "9a646543-e1f3-4c17-9a06-36a56be75858"
      },
      "outputs": [
        {
          "output_type": "stream",
          "name": "stdout",
          "text": [
            "123\n"
          ]
        }
      ],
      "source": [
        "print(\"123\")"
      ]
    },
    {
      "cell_type": "code",
      "source": [
        "x = float(input('請輸入你的體溫'))\n",
        "if x >= 37.5:\n",
        "  print('體溫過高!')\n",
        "elif x >= 37 and x < 37.4:\n",
        "  print('體溫略高!')\n",
        "elif 34 <= x < 36.9:\n",
        "  print('體溫正常!')\n",
        "else:\n",
        "  print('體溫異常,請重新量測!')"
      ],
      "metadata": {
        "colab": {
          "base_uri": "https://localhost:8080/"
        },
        "id": "aGAMsMD59TlH",
        "outputId": "9668b2f0-2190-4c9d-b654-021894417df1"
      },
      "execution_count": 7,
      "outputs": [
        {
          "output_type": "stream",
          "name": "stdout",
          "text": [
            "請輸入你的體溫34\n",
            "體溫正常!\n"
          ]
        }
      ]
    },
    {
      "cell_type": "code",
      "source": [
        "y = float(input('請輸入成績'))\n",
        "if y >= 90:\n",
        "  print('A')\n",
        "elif 80 <= y < 90:\n",
        "  print('B')\n",
        "elif 70 <= y < 80:\n",
        "  print('C')\n",
        "elif 60 <= y < 70:\n",
        "  print('D')  \n",
        "else:\n",
        "  print('E')"
      ],
      "metadata": {
        "colab": {
          "base_uri": "https://localhost:8080/"
        },
        "id": "bOxgL1ln_zvY",
        "outputId": "a9ea12de-8171-4437-cbea-b3023b74e7c6"
      },
      "execution_count": 14,
      "outputs": [
        {
          "output_type": "stream",
          "name": "stdout",
          "text": [
            "請輸入成績55\n",
            "E\n"
          ]
        }
      ]
    },
    {
      "cell_type": "code",
      "source": [
        "z = int(input('請輸入購物金額 '))\n",
        "if z >= 10000:\n",
        "  if z >= 100000:\n",
        "    print('八折',z *0.8, end = '元\\n')\n",
        "  elif z >= 50000:\n",
        "    print('八五折',z *0.85, end = '元\\n')\n",
        "  elif z >= 30000:\n",
        "    print('九折',z *0.9, end = '元\\n')\n",
        "  else:\n",
        "    print('九五折',z *0.95, end = '元\\n')\n",
        "else:\n",
        "  print('沒打折',z, end = '元\\n')"
      ],
      "metadata": {
        "id": "RdugUfseGEMF",
        "colab": {
          "base_uri": "https://localhost:8080/"
        },
        "outputId": "6819a56e-8c92-48e2-9da8-ef881bf1733f"
      },
      "execution_count": 31,
      "outputs": [
        {
          "output_type": "stream",
          "name": "stdout",
          "text": [
            "請輸入購物金額 50000\n",
            "八五折 42500.0元\n"
          ]
        }
      ]
    },
    {
      "cell_type": "code",
      "source": [
        "a = float(input('請輸入今年收入淨額'))\n",
        "if a >= 300000:\n",
        "  if a >= 2000000:\n",
        "    print('賦稅金額: ',a *0.3, end = '元\\n')\n",
        "  elif a >= 1000000:\n",
        "    print('賦稅金額: ',a *0.21, end = '元\\n')\n",
        "  elif a >= 600000:\n",
        "    print('賦稅金額: ',a *0.13, end = '元\\n')\n",
        "  else:\n",
        "    print('賦稅金額: ',a *0.06, end = '元\\n')\n",
        "else:\n",
        "  print('賦稅金額: 0',end = '元\\n')"
      ],
      "metadata": {
        "colab": {
          "base_uri": "https://localhost:8080/"
        },
        "id": "qzYDv2BbJrGs",
        "outputId": "c04ce9ff-fdeb-4e3b-bf36-70d8e003b411"
      },
      "execution_count": 40,
      "outputs": [
        {
          "output_type": "stream",
          "name": "stdout",
          "text": [
            "請輸入今年收入淨額300000\n",
            "賦稅金額:  18000.0元\n"
          ]
        }
      ]
    },
    {
      "cell_type": "code",
      "source": [
        "b = int(input('請輸入月份'))\n",
        "if 3 <= b <= 5:\n",
        "  print(b,'月是春天!')\n",
        "elif 6 <= b <= 8:\n",
        "  print(b,'月是夏天!')\n",
        "elif 9 <= b <= 11:\n",
        "  print(b,'月是秋天!')\n",
        "elif 1 <= b <= 2:\n",
        "  print(b,'月是冬天!')\n",
        "elif 11 < b <= 12:\n",
        "  print(b,'月是冬天!')\n",
        "else:\n",
        "  print('月份不在範圍內!')"
      ],
      "metadata": {
        "colab": {
          "base_uri": "https://localhost:8080/"
        },
        "id": "Ef_eK-udJrlR",
        "outputId": "a78c7c09-5436-4764-8f3f-23240ea0b047"
      },
      "execution_count": 51,
      "outputs": [
        {
          "output_type": "stream",
          "name": "stdout",
          "text": [
            "請輸入月份2\n",
            "2 月是冬天!\n"
          ]
        }
      ]
    }
  ]
}